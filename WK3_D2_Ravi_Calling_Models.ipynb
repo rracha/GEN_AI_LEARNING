{
  "nbformat": 4,
  "nbformat_minor": 0,
  "metadata": {
    "colab": {
      "provenance": [],
      "authorship_tag": "ABX9TyMwBRiH4sykz4Em0G6uWzjk",
      "include_colab_link": true
    },
    "kernelspec": {
      "name": "python3",
      "display_name": "Python 3"
    },
    "language_info": {
      "name": "python"
    }
  },
  "cells": [
    {
      "cell_type": "markdown",
      "metadata": {
        "id": "view-in-github",
        "colab_type": "text"
      },
      "source": [
        "<a href=\"https://colab.research.google.com/github/rracha/LLM_UDEMY_LEARNING/blob/main/WK3_D2_Ravi_Calling_Models.ipynb\" target=\"_parent\"><img src=\"https://colab.research.google.com/assets/colab-badge.svg\" alt=\"Open In Colab\"/></a>"
      ]
    },
    {
      "cell_type": "markdown",
      "source": [
        "EditHugging Face's pipeline function supports a wide variety of task types. Here are the main categories and specific tasks you can pass:\n",
        "**Text Processing Tasks**\n",
        "\n",
        "\"text-classification\" or \"sentiment-analysis\" - Classify text into categories\n",
        "\"token-classification\" or \"ner\" - Named Entity Recognition\n",
        "\"question-answering\" - Answer questions based on context\n",
        "\"fill-mask\" - Fill in masked tokens in text\n",
        "\"summarization\" - Generate text summaries\n",
        "\"translation\" - Translate between languages (e.g., \"translation_en_to_fr\")\n",
        "\"text-generation\" - Generate continuation of text\n",
        "\"text2text-generation\" - Text-to-text generation tasks\n",
        "\"feature-extraction\" - Extract embeddings/features from text\n",
        "\"zero-shot-classification\" - Classify text without training examples\n",
        "\"conversational\" - Chatbot/dialogue systems\n",
        "\n",
        "**Audio Tasks**\n",
        "\n",
        "\"text-to-speech\" or \"tts\" - Convert text to speech\n",
        "\"automatic-speech-recognition\" or \"asr\" - Convert speech to text\n",
        "\"audio-classification\" - Classify audio clips\n",
        "\"voice-activity-detection\" - Detect speech in audio\n",
        "\"audio-to-audio\" - Audio transformation tasks\n",
        "\n",
        "**Vision Tasks**\n",
        "\n",
        "\"image-classification\" - Classify images\n",
        "\"object-detection\" - Detect objects in images\n",
        "\"image-segmentation\" - Segment images\n",
        "\"image-to-text\" - Generate captions for images\n",
        "\"text-to-image\" - Generate images from text descriptions\n",
        "\"depth-estimation\" - Estimate depth from images\n",
        "\"zero-shot-image-classification\" - Classify images without training examples\n",
        "\n",
        "**Multimodal Tasks**\n",
        "\n",
        "\"visual-question-answering\" - Answer questions about images\n",
        "\"document-question-answering\" - Answer questions about documents\n",
        "\"image-to-image\" - Transform images\n",
        "\n",
        "***Tabular/Structured Data***\n",
        "\n",
        "\"tabular-classification\" - Classify tabular data\n",
        "\"tabular-regression\" - Regression on tabular data"
      ],
      "metadata": {
        "id": "zCaEatH9bgIj"
      }
    },
    {
      "cell_type": "code",
      "execution_count": null,
      "metadata": {
        "id": "dNvY94FVEC9R"
      },
      "outputs": [],
      "source": [
        "from huggingface_hub import login\n",
        "from google.colab import userdata\n",
        "from transformers import pipeline\n",
        "from diffusers import DiffusionPipeline\n",
        "from datasets import load_dataset\n",
        "import torch"
      ]
    },
    {
      "cell_type": "code",
      "source": [
        "hf_token = userdata.get('HK_TOKEN')\n",
        "login(token= hf_token)"
      ],
      "metadata": {
        "id": "_v3zOreCE4iX"
      },
      "execution_count": null,
      "outputs": []
    },
    {
      "cell_type": "code",
      "source": [
        "# Sentiment Analysis\n",
        "\n",
        "classifier = pipeline(\"sentiment-analysis\", device=\"cuda\", model = \"nlptown/bert-base-multilingual-uncased-sentiment\")\n",
        "result = classifier(\"I'm super excited to be on the way to LLM mastery!\")\n",
        "print(result)"
      ],
      "metadata": {
        "id": "k0yPyHN1GMHr"
      },
      "execution_count": null,
      "outputs": []
    },
    {
      "cell_type": "code",
      "source": [
        "#named entity recogniztion\n",
        "ner = pipeline(\"ner\", device=\"cuda\", model = \"dslim/bert-base-NER\")\n",
        "result = ner(\"Paris is the capital of france\")\n",
        "for entity in result:\n",
        "  print(entity['word'])"
      ],
      "metadata": {
        "id": "b61Nek5SIVNl"
      },
      "execution_count": null,
      "outputs": []
    },
    {
      "cell_type": "code",
      "source": [
        "summarizer1 = pipeline( model = \"sshleifer/distilbart-cnn-12-6\")\n",
        "text = \"\"\"The Hugging Face transformers library is an incredibly versatile and powerful tool for natural language processing (NLP).\n",
        "It allows users to perform a wide range of tasks such as text classification, named entity recognition, and question answering, among others.\n",
        "It's an extremely popular library that's widely used by the open-source data science community.\n",
        "It lowers the barrier to entry into the field by providing Data Scientists with a productive, convenient way to work with transformer models.\n",
        "\"\"\"\n",
        "result = summarizer1(text, max_length=130, min_length=30, do_sample=False)\n",
        "print(result[0]['summary_text'])"
      ],
      "metadata": {
        "id": "Xk0xGfiOK4pE"
      },
      "execution_count": null,
      "outputs": []
    },
    {
      "cell_type": "code",
      "source": [
        "# text summarization\n",
        "text = \"\"\"The Hugging Face transformers library is an incredibly versatile and powerful tool for natural language processing (NLP).\n",
        "It allows users to perform a wide range of tasks such as text classification, named entity recognition, and question answering, among others.\n",
        "It's an extremely popular library that's widely used by the open-source data science community.\n",
        "It lowers the barrier to entry into the field by providing Data Scientists with a productive, convenient way to work with transformer models.\n",
        "\"\"\"\n",
        "summarizer = pipeline(\"summarization\",  model = \"facebook/bart-large-cnn\")\n",
        "result = summarizer(text, max_length=130, min_length=30, do_sample=False)\n",
        "print(result[0]['summary_text'])"
      ],
      "metadata": {
        "id": "weXvJZQfIdt1"
      },
      "execution_count": null,
      "outputs": []
    },
    {
      "cell_type": "code",
      "source": [
        "# Image Generation\n",
        "\n",
        "image_gen = DiffusionPipeline.from_pretrained(\n",
        "    \"stabilityai/stable-diffusion-2\",\n",
        "    torch_dtype=torch.float16,\n",
        "    use_safetensors=True,\n",
        "    variant=\"fp16\"\n",
        "    ).to(\"cuda\")\n",
        "\n",
        "text = \"visitng places of newyork city and its names\"\n",
        "image = image_gen(prompt=text).images[0]\n",
        "image"
      ],
      "metadata": {
        "id": "S4H6lbjTJfAQ"
      },
      "execution_count": null,
      "outputs": []
    },
    {
      "cell_type": "code",
      "source": [
        "# Translation\n",
        "\n",
        "translator = pipeline(\"translation_en_to_fr\")\n",
        "result = translator(\"The Data Scientists were truly amazed by the power and simplicity of the HuggingFace pipeline API.\")\n",
        "print(result[0]['translation_text'])"
      ],
      "metadata": {
        "id": "DNwqzcTDM_u1"
      },
      "execution_count": null,
      "outputs": []
    },
    {
      "cell_type": "markdown",
      "source": [],
      "metadata": {
        "id": "DHIFRP6EPheK"
      }
    },
    {
      "cell_type": "code",
      "source": [
        "# Audio Generation\n",
        "\n",
        "synthesiser = pipeline(\"text-to-speech\", \"microsoft/speecht5_tts\")\n",
        "\n",
        "embeddings_dataset = load_dataset(\"Matthijs/cmu-arctic-xvectors\", split=\"validation\")\n",
        "speaker_embedding = torch.tensor(embeddings_dataset[7306][\"xvector\"]).unsqueeze(0)\n",
        "\n",
        "speech = synthesiser(\"Hi to an artificial intelligence engineer, on the way to mastery!\", forward_params={\"speaker_embeddings\": speaker_embedding})\n",
        "\n",
        "sf.write(\"speech.wav\", speech[\"audio\"], samplerate=speech[\"sampling_rate\"])\n",
        "Audio(\"speech.wav\")"
      ],
      "metadata": {
        "id": "Bz9JbM33Ph6Z"
      },
      "execution_count": null,
      "outputs": []
    }
  ]
}